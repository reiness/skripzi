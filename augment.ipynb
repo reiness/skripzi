{
 "cells": [
  {
   "cell_type": "markdown",
   "metadata": {},
   "source": [
    "augmenting down_40 train and test"
   ]
  },
  {
   "cell_type": "code",
   "execution_count": 11,
   "metadata": {},
   "outputs": [],
   "source": [
    "import numpy as np\n",
    "np.random.seed(62)"
   ]
  },
  {
   "cell_type": "code",
   "execution_count": 23,
   "metadata": {},
   "outputs": [
    {
     "name": "stdout",
     "output_type": "stream",
     "text": [
      "Processing training dataset...\n"
     ]
    },
    {
     "name": "stderr",
     "output_type": "stream",
     "text": [
      "Processing images:   3%|▎         | 186/5886 [00:02<01:13, 77.37it/s]"
     ]
    },
    {
     "name": "stdout",
     "output_type": "stream",
     "text": [
      "Error during augmentation!\n",
      "Image shape: (367, 256, 3)\n",
      "Original bounding boxes: [[0.63466, 0.718597, 0.772834, 0.174551], [0.371194, 0.657423, 0.11007, 0.101142], [0.772834, 0.682708, 0.098361, 0.099511], [0.940281, 0.69739, 0.114754, 0.073409]]\n",
      "Error message: Expected x_max for bbox [0.248243  0.6313215 1.021077  0.8058725 1.       ] to be in the range [0.0, 1.0], got 1.021077036857605.\n"
     ]
    },
    {
     "name": "stderr",
     "output_type": "stream",
     "text": [
      "Processing images:   6%|▋         | 378/5886 [00:04<01:00, 90.98it/s]"
     ]
    },
    {
     "name": "stdout",
     "output_type": "stream",
     "text": [
      "Error during augmentation!\n",
      "Image shape: (274, 300, 3)\n",
      "Original bounding boxes: [[0.592, 0.228665, 0.82, 0.435449], [0.184, 0.700219, 0.236, 0.582057]]\n",
      "Error message: Expected x_max for bbox [0.18200001 0.01094049 1.002      0.4463895  2.        ] to be in the range [0.0, 1.0], got 1.0019999742507935.\n"
     ]
    },
    {
     "name": "stderr",
     "output_type": "stream",
     "text": [
      "Processing images:   9%|▉         | 541/5886 [00:06<01:00, 87.74it/s]"
     ]
    },
    {
     "name": "stdout",
     "output_type": "stream",
     "text": [
      "Error during augmentation!\n",
      "Image shape: (432, 768, 3)\n",
      "Original bounding boxes: [[0.3875, 0.518056, 0.328125, 0.727778], [0.2, 0.66875, 0.095312, 0.231944], [0.125391, 0.651389, 0.107031, 0.183333], [0.579297, 0.729861, 0.121094, 0.195833], [0.873437, 0.784722, 0.254688, 0.408333], [0.059766, 0.71875, 0.061719, 0.331944]]\n",
      "Error message: Expected x_max for bbox [0.746093   0.58055544 1.0007809  0.9888885  4.        ] to be in the range [0.0, 1.0], got 1.0007809400558472.\n",
      "Error during augmentation!\n",
      "Image shape: (241, 309, 3)\n",
      "Original bounding boxes: [[0.439922, 0.281095, 0.085271, 0.278607], [0.520349, 0.289801, 0.079457, 0.271144], [0.603682, 0.281095, 0.079457, 0.293532], [0.698643, 0.56592, 0.606589, 0.838308], [0.350775, 0.753731, 0.151163, 0.114428]]\n",
      "Error message: Expected x_max for bbox [0.39534852 0.146766   1.0019375  0.985074   6.        ] to be in the range [0.0, 1.0], got 1.0019375085830688.\n"
     ]
    },
    {
     "name": "stderr",
     "output_type": "stream",
     "text": [
      "Processing images:  12%|█▏        | 706/5886 [00:08<01:03, 81.40it/s]"
     ]
    },
    {
     "name": "stdout",
     "output_type": "stream",
     "text": [
      "Error during augmentation!\n",
      "Image shape: (288, 384, 3)\n",
      "Original bounding boxes: [[0.683594, 0.35625, 0.070312, 0.3125], [0.119531, 0.391667, 0.060937, 0.166667], [0.771094, 0.384375, 0.076563, 0.210417], [0.952344, 0.389583, 0.098437, 0.225], [0.610156, 0.390625, 0.067187, 0.210417], [0.499219, 0.409375, 0.082812, 0.264583], [0.372656, 0.385417, 0.045312, 0.15], [0.264062, 0.413542, 0.08125, 0.172917], [0.849219, 0.682292, 0.295312, 0.24375], [0.103906, 0.790625, 0.089063, 0.235417], [0.532031, 0.694792, 0.073438, 0.285417]]\n",
      "Error message: Expected x_max for bbox [0.9031255  0.27708298 1.0015625  0.502083   2.        ] to be in the range [0.0, 1.0], got 1.001562476158142.\n"
     ]
    },
    {
     "name": "stderr",
     "output_type": "stream",
     "text": [
      "Processing images:  13%|█▎        | 741/5886 [00:09<01:09, 73.99it/s]"
     ]
    },
    {
     "name": "stdout",
     "output_type": "stream",
     "text": [
      "Error during augmentation!\n",
      "Image shape: (316, 768, 3)\n",
      "Original bounding boxes: [[0.478516, 0.777462, 0.128906, 0.475379], [0.361328, 0.737689, 0.128906, 0.49053], [0.118359, 0.642992, 0.067969, 0.267045], [0.177734, 0.731061, 0.127344, 0.5], [0.240625, 0.54072, 0.134375, 0.445076], [0.38125, 0.298295, 0.090625, 0.418561], [0.476562, 0.483902, 0.146875, 0.452652], [0.573047, 0.588068, 0.182031, 0.74053]]\n",
      "Error message: Expected y_max for bbox [0.414063  0.5397725 0.542969  1.0151515 6.       ] to be in the range [0.0, 1.0], got 1.0151515007019043.\n"
     ]
    },
    {
     "name": "stderr",
     "output_type": "stream",
     "text": [
      "Processing images:  15%|█▍        | 861/5886 [00:10<00:57, 87.65it/s]"
     ]
    },
    {
     "name": "stdout",
     "output_type": "stream",
     "text": [
      "Error during augmentation!\n",
      "Image shape: (240, 319, 3)\n",
      "Original bounding boxes: [[0.666979, 0.5925, 0.669794, 0.725]]\n",
      "Error message: Expected x_max for bbox [0.332082   0.22999996 1.001876   0.955      5.        ] to be in the range [0.0, 1.0], got 1.0018759965896606.\n"
     ]
    },
    {
     "name": "stderr",
     "output_type": "stream",
     "text": [
      "Processing images:  23%|██▎       | 1356/5886 [00:17<00:50, 88.89it/s]"
     ]
    },
    {
     "name": "stdout",
     "output_type": "stream",
     "text": [
      "Error during augmentation!\n",
      "Image shape: (245, 384, 3)\n",
      "Original bounding boxes: [[0.419531, 0.531785, 0.676562, 0.506112], [0.766406, 0.520782, 0.051562, 0.112469], [0.821875, 0.607579, 0.06875, 0.295844], [0.914062, 0.601467, 0.040625, 0.288509], [0.974219, 0.606357, 0.054688, 0.303178]]\n",
      "Error message: Expected x_max for bbox [ 0.94687504  0.45476797  1.0015631   0.757946   10.        ] to be in the range [0.0, 1.0], got 1.0015630722045898.\n",
      "Error during augmentation!\n",
      "Image shape: (288, 384, 3)\n",
      "Original bounding boxes: [[0.520312, 0.734375, 0.3125, 0.49375], [0.074219, 0.465625, 0.032813, 0.052083], [0.189062, 0.465625, 0.0375, 0.04375], [0.425781, 0.466667, 0.042188, 0.0875], [0.392969, 0.454167, 0.045312, 0.116667], [0.542969, 0.460417, 0.060937, 0.133333], [0.628125, 0.466667, 0.05, 0.1125], [0.670312, 0.465625, 0.059375, 0.122917], [0.88125, 0.4875, 0.028125, 0.066667], [0.907031, 0.485417, 0.032813, 0.079167], [0.894531, 0.316667, 0.032813, 0.141667], [0.957031, 0.408333, 0.067187, 0.1125], [0.85, 0.4125, 0.059375, 0.104167], [0.108594, 0.666667, 0.167187, 0.379167], [0.227344, 0.711458, 0.114062, 0.522917], [0.371875, 0.721875, 0.290625, 0.58125], [0.697656, 0.726042, 0.242188, 0.539583], [0.944531, 0.666667, 0.107813, 0.375]]\n",
      "Error message: Expected y_max for bbox [0.22656249 0.43125    0.5171875  1.0125     6.        ] to be in the range [0.0, 1.0], got 1.0125000476837158.\n"
     ]
    },
    {
     "name": "stderr",
     "output_type": "stream",
     "text": [
      "Processing images:  23%|██▎       | 1377/5886 [00:17<00:48, 93.18it/s]"
     ]
    },
    {
     "name": "stdout",
     "output_type": "stream",
     "text": [
      "Error during augmentation!\n",
      "Image shape: (199, 300, 3)\n",
      "Original bounding boxes: [[0.674, 0.334835, 0.26, 0.165165], [0.858, 0.361862, 0.252, 0.207207], [0.249, 0.599099, 0.366, 0.807808], [0.494, 0.575075, 0.316, 0.861862]]\n",
      "Error message: Expected y_max for bbox [ 0.066       0.19519499  0.43199998  1.003003   10.        ] to be in the range [0.0, 1.0], got 1.0030030012130737.\n"
     ]
    },
    {
     "name": "stderr",
     "output_type": "stream",
     "text": [
      "Processing images:  28%|██▊       | 1644/5886 [00:20<00:49, 85.38it/s] "
     ]
    },
    {
     "name": "stdout",
     "output_type": "stream",
     "text": [
      "Error during augmentation!\n",
      "Image shape: (225, 300, 3)\n",
      "Original bounding boxes: [[0.5, 0.846667, 0.416, 0.312], [0.881, 0.874667, 0.222, 0.250667], [0.577, 0.764, 0.806, 0.461333], [0.063, 0.730667, 0.114, 0.512], [0.194, 0.662667, 0.244, 0.653333], [0.57, 0.657333, 0.172, 0.653333]]\n",
      "Error message: Expected y_max for bbox [0.292    0.690667 0.708    1.002667 0.      ] to be in the range [0.0, 1.0], got 1.00266695022583.\n"
     ]
    },
    {
     "name": "stderr",
     "output_type": "stream",
     "text": [
      "Processing images:  33%|███▎      | 1937/5886 [00:24<00:59, 66.54it/s]"
     ]
    },
    {
     "name": "stdout",
     "output_type": "stream",
     "text": [
      "Error during augmentation!\n",
      "Image shape: (321, 768, 3)\n",
      "Original bounding boxes: [[0.892578, 0.804104, 0.182031, 0.395522], [0.522656, 0.494403, 0.228125, 0.951493], [0.5375, 0.430037, 0.54375, 0.725746]]\n",
      "Error message: Expected y_max for bbox [0.8015625 0.606343  0.9835935 1.0018649 6.       ] to be in the range [0.0, 1.0], got 1.0018649101257324.\n"
     ]
    },
    {
     "name": "stderr",
     "output_type": "stream",
     "text": [
      "Processing images:  38%|███▊      | 2224/5886 [00:27<00:40, 89.49it/s]"
     ]
    },
    {
     "name": "stdout",
     "output_type": "stream",
     "text": [
      "Error during augmentation!\n",
      "Image shape: (255, 384, 3)\n",
      "Original bounding boxes: [[0.9, 0.710094, 0.1125, 0.232394], [0.135937, 0.768779, 0.2625, 0.462441], [0.389844, 0.771127, 0.257812, 0.476526], [0.579688, 0.657277, 0.09375, 0.361502], [0.694531, 0.642019, 0.079687, 0.321596]]\n",
      "Error message: Expected y_max for bbox [ 0.260938  0.532864  0.51875   1.00939  10.      ] to be in the range [0.0, 1.0], got 1.0093899965286255.\n"
     ]
    },
    {
     "name": "stderr",
     "output_type": "stream",
     "text": [
      "Processing images:  44%|████▍     | 2583/5886 [00:32<00:39, 83.21it/s] "
     ]
    },
    {
     "name": "stdout",
     "output_type": "stream",
     "text": [
      "Error during augmentation!\n",
      "Image shape: (199, 300, 3)\n",
      "Original bounding boxes: [[0.048, 0.668168, 0.08, 0.195195], [0.101, 0.731231, 0.09, 0.153153], [0.173, 0.785285, 0.094, 0.183183], [0.258, 0.818318, 0.156, 0.165165], [0.441, 0.828829, 0.194, 0.336336], [0.72, 0.842342, 0.2, 0.309309], [0.598, 0.665165, 0.112, 0.177177], [0.703, 0.675676, 0.126, 0.192192], [0.482, 0.644144, 0.644, 0.171171], [0.402, 0.776276, 0.58, 0.303303], [0.241, 0.917417, 0.446, 0.153153], [0.94, 0.708709, 0.124, 0.204204], [0.948, 0.851351, 0.108, 0.243243]]\n",
      "Error message: Expected x_max for bbox [ 0.878     0.606607  1.002     0.810811 11.      ] to be in the range [0.0, 1.0], got 1.0019999742507935.\n",
      "Error during augmentation!\n",
      "Image shape: (409, 614, 3)\n",
      "Original bounding boxes: [[0.446777, 0.572581, 0.040039, 0.115836], [0.48877, 0.565982, 0.03418, 0.090909], [0.348145, 0.51393, 0.02832, 0.060117], [0.709473, 0.593842, 0.049805, 0.146628], [0.607422, 0.517595, 0.142578, 0.146628], [0.631836, 0.752199, 0.460938, 0.390029], [0.350586, 0.433284, 0.070312, 0.112903], [0.438477, 0.468475, 0.105469, 0.277126], [0.466797, 0.395894, 0.044922, 0.105572], [0.54834, 0.417155, 0.09668, 0.20088], [0.910156, 0.543988, 0.191406, 0.542522], [0.484863, 0.613636, 0.958008, 0.752199], [0.369141, 0.622434, 0.353516, 0.63783]]\n",
      "Error message: Expected x_max for bbox [ 0.814453    0.27272698  1.005859    0.81524897 10.        ] to be in the range [0.0, 1.0], got 1.0058590173721313.\n"
     ]
    },
    {
     "name": "stderr",
     "output_type": "stream",
     "text": [
      "Processing images:  46%|████▌     | 2680/5886 [00:33<00:36, 87.49it/s]"
     ]
    },
    {
     "name": "stdout",
     "output_type": "stream",
     "text": [
      "Error during augmentation!\n",
      "Image shape: (408, 614, 3)\n",
      "Original bounding boxes: [[0.062988, 0.519118, 0.077148, 0.173529], [0.12207, 0.525735, 0.074219, 0.154412], [0.210938, 0.530147, 0.089844, 0.122059], [0.433105, 0.461029, 0.071289, 0.098529], [0.490723, 0.449265, 0.061523, 0.122059], [0.264648, 0.796324, 0.193359, 0.392647], [0.418457, 0.761029, 0.174805, 0.372059], [0.537598, 0.657353, 0.139648, 0.267647], [0.720215, 0.5875, 0.12207, 0.219118], [0.646484, 0.430147, 0.064453, 0.077941], [0.789062, 0.508088, 0.082031, 0.207353], [0.951172, 0.492647, 0.076172, 0.123529], [0.200195, 0.477941, 0.294922, 0.15], [0.409668, 0.433824, 0.188477, 0.108824], [0.671875, 0.409559, 0.150391, 0.095588], [0.876465, 0.511029, 0.186523, 0.230882], [0.656738, 0.555882, 0.235352, 0.258824], [0.325684, 0.759559, 0.561523, 0.451471], [0.754395, 0.798529, 0.499023, 0.367647], [0.241699, 0.601471, 0.043945, 0.091176], [0.202637, 0.580882, 0.03418, 0.094118], [0.746582, 0.783824, 0.038086, 0.123529], [0.800293, 0.780147, 0.040039, 0.130882], [0.842773, 0.694118, 0.041016, 0.117647], [0.927246, 0.619118, 0.03418, 0.1], [0.974609, 0.626471, 0.037109, 0.1], [0.375488, 0.550735, 0.032227, 0.086765], [0.489746, 0.518382, 0.036133, 0.083824], [0.243652, 0.445588, 0.032227, 0.079412], [0.383789, 0.397059, 0.015625, 0.055882], [0.436523, 0.389706, 0.021484, 0.055882], [0.861816, 0.427941, 0.045898, 0.061765], [0.921387, 0.405882, 0.040039, 0.047059]]\n",
      "Error message: Expected x_max for bbox [ 0.5048835   0.61470556  1.0039065   0.9823525  11.        ] to be in the range [0.0, 1.0], got 1.003906488418579.\n"
     ]
    },
    {
     "name": "stderr",
     "output_type": "stream",
     "text": [
      "Processing images:  47%|████▋     | 2746/5886 [00:34<00:52, 60.13it/s]"
     ]
    },
    {
     "name": "stdout",
     "output_type": "stream",
     "text": [
      "Error during augmentation!\n",
      "Image shape: (288, 384, 3)\n",
      "Original bounding boxes: [[0.124219, 0.791667, 0.132812, 0.091667], [0.154688, 0.81875, 0.128125, 0.095833], [0.335156, 0.68125, 0.095312, 0.183333], [0.370312, 0.7875, 0.109375, 0.095833], [0.452344, 0.835417, 0.135937, 0.0875], [0.4875, 0.773958, 0.121875, 0.06875], [0.549219, 0.723958, 0.123438, 0.064583], [0.628125, 0.802083, 0.115625, 0.083333], [0.6875, 0.759375, 0.109375, 0.05625], [0.940625, 0.788542, 0.121875, 0.089583], [0.823438, 0.764583, 0.090625, 0.058333], [0.722656, 0.720833, 0.089063, 0.0375], [0.819531, 0.70625, 0.064062, 0.054167], [0.88125, 0.727083, 0.065625, 0.041667], [0.925, 0.672917, 0.140625, 0.0625], [0.717969, 0.680208, 0.142187, 0.04375]]\n",
      "Error message: Expected x_max for bbox [0.8796875  0.74375045 1.0015625  0.8333335  1.        ] to be in the range [0.0, 1.0], got 1.001562476158142.\n"
     ]
    },
    {
     "name": "stderr",
     "output_type": "stream",
     "text": [
      "Processing images:  59%|█████▉    | 3493/5886 [00:43<00:34, 69.07it/s] "
     ]
    },
    {
     "name": "stdout",
     "output_type": "stream",
     "text": [
      "Error during augmentation!\n",
      "Image shape: (464, 619, 3)\n",
      "Original bounding boxes: [[0.37936, 0.510336, 0.613372, 0.981912]]\n",
      "Error message: Expected y_max for bbox [0.07267398 0.01937997 0.686046   1.001292   5.        ] to be in the range [0.0, 1.0], got 1.0012919902801514.\n"
     ]
    },
    {
     "name": "stderr",
     "output_type": "stream",
     "text": [
      "Processing images:  64%|██████▎   | 3746/5886 [00:46<00:23, 91.59it/s]"
     ]
    },
    {
     "name": "stdout",
     "output_type": "stream",
     "text": [
      "Error during augmentation!\n",
      "Image shape: (225, 300, 3)\n",
      "Original bounding boxes: [[0.132, 0.414667, 0.024, 0.082667], [0.235, 0.869333, 0.094, 0.250667], [0.517, 0.438667, 0.034, 0.104], [0.347, 0.310667, 0.082, 0.104], [0.505, 0.376, 0.046, 0.074667], [0.439, 0.358667, 0.082, 0.072], [0.265, 0.342667, 0.122, 0.274667], [0.379, 0.712, 0.406, 0.581333], [0.638, 0.814667, 0.264, 0.338667], [0.72, 0.568, 0.208, 0.181333]]\n",
      "Error message: Expected y_max for bbox [ 0.17600001  0.42133352  0.582       1.0026665  10.        ] to be in the range [0.0, 1.0], got 1.0026664733886719.\n"
     ]
    },
    {
     "name": "stderr",
     "output_type": "stream",
     "text": [
      "Processing images:  64%|██████▍   | 3772/5886 [00:47<00:31, 67.27it/s]"
     ]
    },
    {
     "name": "stdout",
     "output_type": "stream",
     "text": [
      "Error during augmentation!\n",
      "Image shape: (407, 614, 3)\n",
      "Original bounding boxes: [[0.479004, 0.81296, 0.09082, 0.094256], [0.375977, 0.804124, 0.089844, 0.088365], [0.29541, 0.844624, 0.133789, 0.116348], [0.698242, 0.844624, 0.197266, 0.113402], [0.830566, 0.90648, 0.333008, 0.175258], [0.096191, 0.880707, 0.055664, 0.206186], [0.204102, 0.837997, 0.068359, 0.170839], [0.399414, 0.896171, 0.097656, 0.195876], [0.305664, 0.905744, 0.117188, 0.156112], [0.05127, 0.770987, 0.03418, 0.083947], [0.830566, 0.913108, 0.155273, 0.217968], [0.137695, 0.794551, 0.029297, 0.069219], [0.146973, 0.897644, 0.05957, 0.195876], [0.178223, 0.930044, 0.094727, 0.125184], [0.243164, 0.940353, 0.0625, 0.110457], [0.027832, 0.877025, 0.043945, 0.216495], [0.080566, 0.833579, 0.041992, 0.173785], [0.175293, 0.785714, 0.038086, 0.072165], [0.093262, 0.736377, 0.180664, 0.123711], [0.650391, 0.799705, 0.035156, 0.061856]]\n",
      "Error message: Expected y_max for bbox [ 0.7529295   0.804124    0.90820247  1.022092   10.        ] to be in the range [0.0, 1.0], got 1.0220919847488403.\n"
     ]
    },
    {
     "name": "stderr",
     "output_type": "stream",
     "text": [
      "Processing images:  65%|██████▍   | 3815/5886 [00:47<00:26, 76.77it/s]"
     ]
    },
    {
     "name": "stdout",
     "output_type": "stream",
     "text": [
      "Error during augmentation!\n",
      "Image shape: (199, 309, 3)\n",
      "Original bounding boxes: [[0.092233, 0.792793, 0.137864, 0.306306], [0.233981, 0.843844, 0.168932, 0.282282], [0.37767, 0.854354, 0.153398, 0.261261], [0.631068, 0.92042, 0.198058, 0.159159], [0.172816, 0.822823, 0.143689, 0.276276], [0.507767, 0.900901, 0.172816, 0.204204], [0.558252, 0.725225, 0.168932, 0.099099], [0.305825, 0.605105, 0.087379, 0.183183], [0.426214, 0.62012, 0.060194, 0.189189], [0.829126, 0.63964, 0.046602, 0.102102], [0.869903, 0.723724, 0.128155, 0.18018]]\n",
      "Error message: Expected y_max for bbox [ 0.42135903  0.79879904  0.59417504  1.003003   11.        ] to be in the range [0.0, 1.0], got 1.0030030012130737.\n"
     ]
    },
    {
     "name": "stderr",
     "output_type": "stream",
     "text": [
      "Processing images:  65%|██████▌   | 3846/5886 [00:48<00:22, 89.10it/s]"
     ]
    },
    {
     "name": "stdout",
     "output_type": "stream",
     "text": [
      "Error during augmentation!\n",
      "Image shape: (255, 384, 3)\n",
      "Original bounding boxes: [[0.233594, 0.429577, 0.439063, 0.230047], [0.740625, 0.53169, 0.525, 0.269953], [0.380469, 0.687793, 0.289062, 0.553991], [0.716406, 0.680751, 0.335938, 0.544601]]\n",
      "Error message: Expected x_max for bbox [ 0.47812504  0.3967135   1.003125    0.6666665  11.        ] to be in the range [0.0, 1.0], got 1.0031249523162842.\n"
     ]
    },
    {
     "name": "stderr",
     "output_type": "stream",
     "text": [
      "Processing images:  66%|██████▌   | 3857/5886 [00:48<00:21, 93.30it/s]"
     ]
    },
    {
     "name": "stdout",
     "output_type": "stream",
     "text": [
      "Error during augmentation!\n",
      "Image shape: (256, 384, 3)\n",
      "Original bounding boxes: [[0.582812, 0.735363, 0.1375, 0.370023], [0.394531, 0.592506, 0.073438, 0.187354], [0.340625, 0.803279, 0.33125, 0.313817], [0.792969, 0.533958, 0.329688, 0.936768], [0.546094, 0.380562, 0.292187, 0.57377], [0.203125, 0.21897, 0.35625, 0.423888], [0.372656, 0.795082, 0.717187, 0.386417]]\n",
      "Error message: Expected y_max for bbox [ 0.62812495  0.06557402  0.957813    1.002342   10.        ] to be in the range [0.0, 1.0], got 1.0023419857025146.\n"
     ]
    },
    {
     "name": "stderr",
     "output_type": "stream",
     "text": [
      "Processing images:  66%|██████▋   | 3908/5886 [00:49<00:25, 76.79it/s]"
     ]
    },
    {
     "name": "stdout",
     "output_type": "stream",
     "text": [
      "Error during augmentation!\n",
      "Image shape: (480, 480, 3)\n",
      "Original bounding boxes: [[0.474375, 0.74375, 0.06625, 0.105], [0.370625, 0.5325, 0.04375, 0.06], [0.41875, 0.52125, 0.0425, 0.045], [0.325625, 0.5175, 0.16125, 0.15], [0.478125, 0.591875, 0.19125, 0.29125], [0.61625, 0.58375, 0.1625, 0.2675], [0.783125, 0.5375, 0.09875, 0.37], [0.85125, 0.540625, 0.13, 0.43125], [0.59, 0.240625, 0.03, 0.08625], [0.614375, 0.24625, 0.03875, 0.0925], [0.674375, 0.24875, 0.03125, 0.095], [0.70875, 0.25375, 0.045, 0.125], [0.790625, 0.245, 0.03875, 0.095], [0.734375, 0.2425, 0.04625, 0.0925], [0.335, 0.68375, 0.215, 0.2], [0.539375, 0.69125, 0.14125, 0.2075], [0.699375, 0.760625, 0.20625, 0.21625], [0.14125, 0.85875, 0.265, 0.2775], [0.723125, 0.91125, 0.44875, 0.18], [0.45875, 0.865, 0.335, 0.19], [0.24375, 0.633125, 0.345, 0.14625]]\n",
      "Error message: Expected y_max for bbox [0.49874997 0.82124996 0.9475     1.00125    6.        ] to be in the range [0.0, 1.0], got 1.0012500286102295.\n"
     ]
    },
    {
     "name": "stderr",
     "output_type": "stream",
     "text": [
      "Processing images:  70%|██████▉   | 4115/5886 [00:51<00:22, 77.56it/s]"
     ]
    },
    {
     "name": "stdout",
     "output_type": "stream",
     "text": [
      "Error during augmentation!\n",
      "Image shape: (256, 384, 3)\n",
      "Original bounding boxes: [[0.535156, 0.734192, 0.214062, 0.283372], [0.486719, 0.552693, 0.132812, 0.196721], [0.705469, 0.63466, 0.092188, 0.173302], [0.797656, 0.654567, 0.092188, 0.096019], [0.702344, 0.820843, 0.332813, 0.330211], [0.1625, 0.788056, 0.315625, 0.428571]]\n",
      "Error message: Expected y_max for bbox [4.6874881e-03 5.7377052e-01 3.2031250e-01 1.0023415e+00 6.0000000e+00] to be in the range [0.0, 1.0], got 1.0023415088653564.\n"
     ]
    },
    {
     "name": "stderr",
     "output_type": "stream",
     "text": [
      "Processing images:  71%|███████▏  | 4194/5886 [00:52<00:23, 71.66it/s]"
     ]
    },
    {
     "name": "stdout",
     "output_type": "stream",
     "text": [
      "Error during augmentation!\n",
      "Image shape: (225, 300, 3)\n",
      "Original bounding boxes: [[0.473, 0.421333, 0.118, 0.170667], [0.643, 0.550667, 0.166, 0.221333], [0.937, 0.592, 0.13, 0.197333], [0.132, 0.536, 0.208, 0.362667], [0.598, 0.385333, 0.192, 0.226667], [0.828, 0.470667, 0.34, 0.381333], [0.662, 0.849333, 0.592, 0.264]]\n",
      "Error message: Expected x_max for bbox [ 0.872       0.49333352  1.002       0.6906665  11.        ] to be in the range [0.0, 1.0], got 1.0019999742507935.\n"
     ]
    },
    {
     "name": "stderr",
     "output_type": "stream",
     "text": [
      "Processing images:  72%|███████▏  | 4239/5886 [00:53<00:27, 60.68it/s]"
     ]
    },
    {
     "name": "stdout",
     "output_type": "stream",
     "text": [
      "Error during augmentation!\n",
      "Image shape: (225, 300, 3)\n",
      "Original bounding boxes: [[0.05, 0.441333, 0.064, 0.285333], [0.382, 0.510667, 0.04, 0.162667], [0.339, 0.518667, 0.034, 0.168], [0.292, 0.514667, 0.044, 0.16], [0.248, 0.510667, 0.044, 0.173333], [0.207, 0.510667, 0.054, 0.173333], [0.157, 0.505333, 0.046, 0.173333], [0.096, 0.501333, 0.04, 0.170667], [0.942, 0.302667, 0.12, 0.098667], [0.928, 0.118667, 0.14, 0.109333], [0.716, 0.514667, 0.56, 0.949333]]\n",
      "Error message: Expected x_max for bbox [0.88199997 0.25333348 1.002      0.3520005  7.        ] to be in the range [0.0, 1.0], got 1.0019999742507935.\n"
     ]
    },
    {
     "name": "stderr",
     "output_type": "stream",
     "text": [
      "Processing images:  75%|███████▌  | 4436/5886 [00:55<00:18, 79.76it/s] "
     ]
    },
    {
     "name": "stdout",
     "output_type": "stream",
     "text": [
      "Error during augmentation!\n",
      "Image shape: (202, 304, 3)\n",
      "Original bounding boxes: [[0.192308, 0.522189, 0.364892, 0.411243], [0.517751, 0.735207, 0.372781, 0.505917], [0.89645, 0.58432, 0.211045, 0.275148], [0.798817, 0.715976, 0.394477, 0.43787]]\n",
      "Error message: Expected x_max for bbox [0.79092747 0.446746   1.0019724  0.721894   1.        ] to be in the range [0.0, 1.0], got 1.0019724369049072.\n"
     ]
    },
    {
     "name": "stderr",
     "output_type": "stream",
     "text": [
      "Processing images:  76%|███████▌  | 4475/5886 [00:56<00:18, 75.52it/s]"
     ]
    },
    {
     "name": "stdout",
     "output_type": "stream",
     "text": [
      "Error during augmentation!\n",
      "Image shape: (255, 315, 3)\n",
      "Original bounding boxes: [[0.844762, 0.623239, 0.337143, 0.650235]]\n",
      "Error message: Expected x_max for bbox [0.6761905  0.29812148 1.0133336  0.9483565  0.        ] to be in the range [0.0, 1.0], got 1.0133335590362549.\n",
      "Error during augmentation!\n",
      "Image shape: (199, 300, 3)\n",
      "Original bounding boxes: [[0.593, 0.539157, 0.61, 0.945783]]\n",
      "Error message: Expected y_max for bbox [0.288      0.06626546 0.898      1.0120485  6.        ] to be in the range [0.0, 1.0], got 1.0120484828948975.\n"
     ]
    },
    {
     "name": "stderr",
     "output_type": "stream",
     "text": [
      "Processing images:  79%|███████▉  | 4675/5886 [00:58<00:14, 81.18it/s]"
     ]
    },
    {
     "name": "stdout",
     "output_type": "stream",
     "text": [
      "Error during augmentation!\n",
      "Image shape: (215, 363, 3)\n",
      "Original bounding boxes: [[0.687603, 0.62117, 0.039669, 0.072423], [0.607438, 0.473538, 0.021488, 0.038997], [0.922314, 0.572423, 0.158678, 0.214485], [0.708264, 0.465181, 0.133884, 0.122563], [0.772727, 0.529248, 0.183471, 0.172702]]\n",
      "Error message: Expected x_max for bbox [0.842975  0.4651805 1.001653  0.6796655 4.       ] to be in the range [0.0, 1.0], got 1.0016529560089111.\n"
     ]
    },
    {
     "name": "stderr",
     "output_type": "stream",
     "text": [
      "Processing images:  83%|████████▎ | 4887/5886 [01:01<00:09, 100.46it/s]"
     ]
    },
    {
     "name": "stdout",
     "output_type": "stream",
     "text": [
      "Error during augmentation!\n",
      "Image shape: (300, 400, 3)\n",
      "Original bounding boxes: [[0.669415, 0.554, 0.664168, 0.472], [0.305097, 0.429, 0.217391, 0.846]]\n",
      "Error message: Expected x_max for bbox [0.337331   0.31800002 1.0014989  0.79       4.        ] to be in the range [0.0, 1.0], got 1.0014989376068115.\n"
     ]
    },
    {
     "name": "stderr",
     "output_type": "stream",
     "text": [
      "Processing images:  84%|████████▍ | 4941/5886 [01:01<00:14, 67.19it/s] "
     ]
    },
    {
     "name": "stdout",
     "output_type": "stream",
     "text": [
      "Error during augmentation!\n",
      "Image shape: (1440, 1920, 3)\n",
      "Original bounding boxes: [[0.525, 0.301458, 0.425625, 0.442917], [0.170313, 0.210625, 0.06875, 0.067917], [0.8875, 0.1525, 0.225625, 0.184167], [0.710156, 0.140417, 0.085938, 0.094167]]\n",
      "Error message: Expected x_max for bbox [0.77468747 0.0604165  1.0003124  0.2445835  4.        ] to be in the range [0.0, 1.0], got 1.0003124475479126.\n"
     ]
    },
    {
     "name": "stderr",
     "output_type": "stream",
     "text": [
      "Processing images:  85%|████████▍ | 4975/5886 [01:02<00:13, 67.53it/s]"
     ]
    },
    {
     "name": "stdout",
     "output_type": "stream",
     "text": [
      "Error during augmentation!\n",
      "Image shape: (199, 300, 3)\n",
      "Original bounding boxes: [[0.16, 0.65015, 0.236, 0.645646], [0.032, 0.310811, 0.056, 0.201201], [0.366, 0.533033, 0.228, 0.615616], [0.434, 0.537538, 0.32, 0.840841], [0.716, 0.533033, 0.46, 0.93994]]\n",
      "Error message: Expected y_max for bbox [ 0.486       0.06306303  0.94600004  1.003003   10.        ] to be in the range [0.0, 1.0], got 1.0030030012130737.\n"
     ]
    },
    {
     "name": "stderr",
     "output_type": "stream",
     "text": [
      "Processing images:  86%|████████▋ | 5087/5886 [01:03<00:08, 89.42it/s]"
     ]
    },
    {
     "name": "stdout",
     "output_type": "stream",
     "text": [
      "Error during augmentation!\n",
      "Image shape: (201, 300, 3)\n",
      "Original bounding boxes: [[0.478, 0.535821, 0.148, 0.104478], [0.103, 0.676119, 0.21, 0.295522], [0.414, 0.771642, 0.316, 0.247761], [0.4, 0.559701, 0.092, 0.164179], [0.519, 0.601493, 0.118, 0.170149], [0.136, 0.810448, 0.264, 0.367164], [0.81, 0.468657, 0.032, 0.083582]]\n",
      "Error message: Expected x_min for bbox [-1.9999966e-03  5.2835804e-01  2.0800000e-01  8.2388002e-01\n",
      "  1.1000000e+01] to be in the range [0.0, 1.0], got -0.001999996602535248.\n"
     ]
    },
    {
     "name": "stderr",
     "output_type": "stream",
     "text": [
      "Processing images:  89%|████████▉ | 5228/5886 [01:05<00:07, 84.29it/s]"
     ]
    },
    {
     "name": "stdout",
     "output_type": "stream",
     "text": [
      "Error during augmentation!\n",
      "Image shape: (288, 384, 3)\n",
      "Original bounding boxes: [[0.75625, 0.911458, 0.071875, 0.172917], [0.858594, 0.901042, 0.051562, 0.19375], [0.928125, 0.923958, 0.059375, 0.15625], [0.497656, 0.623958, 0.345313, 0.639583], [0.38125, 0.501042, 0.7375, 0.960417]]\n",
      "Error message: Expected y_max for bbox [0.8984375  0.845833   0.95781255 1.0020831  2.        ] to be in the range [0.0, 1.0], got 1.0020830631256104.\n",
      "Error during augmentation!\n",
      "Image shape: (242, 432, 3)\n",
      "Original bounding boxes: [[0.0875, 0.725248, 0.094444, 0.554455], [0.636806, 0.612624, 0.070833, 0.235149], [0.479167, 0.89604, 0.941667, 0.188119], [0.303472, 0.511139, 0.201389, 0.636139], [0.606944, 0.441832, 0.169444, 0.54703]]\n",
      "Error message: Expected y_max for bbox [0.040278  0.4480205 0.134722  1.0024755 2.       ] to be in the range [0.0, 1.0], got 1.0024755001068115.\n"
     ]
    },
    {
     "name": "stderr",
     "output_type": "stream",
     "text": [
      "Processing images:  92%|█████████▏| 5411/5886 [01:07<00:05, 93.83it/s] "
     ]
    },
    {
     "name": "stdout",
     "output_type": "stream",
     "text": [
      "Error during augmentation!\n",
      "Image shape: (384, 288, 3)\n",
      "Original bounding boxes: [[0.233333, 0.678125, 0.204167, 0.4875], [0.288542, 0.817187, 0.272917, 0.346875], [0.067708, 0.653906, 0.135417, 0.417187], [0.8375, 0.3875, 0.129167, 0.146875], [0.252083, 0.4375, 0.4875, 0.396875], [0.095833, 0.130469, 0.166667, 0.257812], [0.610417, 0.332031, 0.595833, 0.535937], [0.795833, 0.300781, 0.404167, 0.476562]]\n",
      "Error message: Expected x_min for bbox [-4.9918890e-07  4.4531250e-01  1.3541651e-01  8.6249948e-01\n",
      "  2.0000000e+00] to be in the range [0.0, 1.0], got -4.991888999938965e-07.\n"
     ]
    },
    {
     "name": "stderr",
     "output_type": "stream",
     "text": [
      "Processing images:  93%|█████████▎| 5489/5886 [01:08<00:04, 82.99it/s]"
     ]
    },
    {
     "name": "stdout",
     "output_type": "stream",
     "text": [
      "Error during augmentation!\n",
      "Image shape: (224, 300, 3)\n",
      "Original bounding boxes: [[0.529, 0.774064, 0.15, 0.173797], [0.704, 0.737968, 0.14, 0.139037], [0.895, 0.782086, 0.218, 0.200535]]\n",
      "Error message: Expected x_max for bbox [0.786      0.6818185  1.004      0.88235354 0.        ] to be in the range [0.0, 1.0], got 1.003999948501587.\n"
     ]
    },
    {
     "name": "stderr",
     "output_type": "stream",
     "text": [
      "Processing images:  94%|█████████▍| 5559/5886 [01:09<00:05, 57.21it/s]"
     ]
    },
    {
     "name": "stdout",
     "output_type": "stream",
     "text": [
      "Error during augmentation!\n",
      "Image shape: (288, 384, 3)\n",
      "Original bounding boxes: [[0.603906, 0.784375, 0.135937, 0.15625], [0.382812, 0.947917, 0.115625, 0.108333]]\n",
      "Error message: Expected y_max for bbox [0.32499948 0.8937505  0.4406245  1.0020835  1.        ] to be in the range [0.0, 1.0], got 1.0020835399627686.\n"
     ]
    },
    {
     "name": "stderr",
     "output_type": "stream",
     "text": [
      "Processing images:  95%|█████████▍| 5582/5886 [01:10<00:04, 65.12it/s]"
     ]
    },
    {
     "name": "stdout",
     "output_type": "stream",
     "text": [
      "Error during augmentation!\n",
      "Image shape: (432, 768, 3)\n",
      "Original bounding boxes: [[0.881641, 0.833333, 0.139844, 0.275], [0.904687, 0.818056, 0.192188, 0.341667], [0.856641, 0.445139, 0.110156, 0.468056], [0.765234, 0.415972, 0.091406, 0.315278], [0.596094, 0.514583, 0.270313, 0.931944], [0.401172, 0.490278, 0.458594, 0.958333]]\n",
      "Error message: Expected x_max for bbox [ 0.808593    0.6472225   1.0007809   0.98888946 11.        ] to be in the range [0.0, 1.0], got 1.0007809400558472.\n"
     ]
    },
    {
     "name": "stderr",
     "output_type": "stream",
     "text": [
      "Processing images:  97%|█████████▋| 5718/5886 [01:11<00:01, 85.60it/s] "
     ]
    },
    {
     "name": "stdout",
     "output_type": "stream",
     "text": [
      "Error during augmentation!\n",
      "Image shape: (384, 288, 3)\n",
      "Original bounding boxes: [[0.202083, 0.667188, 0.166667, 0.2625], [0.41875, 0.704688, 0.195833, 0.23125], [0.9, 0.761719, 0.204167, 0.201563]]\n",
      "Error message: Expected x_max for bbox [0.7979165 0.6609375 1.0020834 0.8625005 0.       ] to be in the range [0.0, 1.0], got 1.002083420753479.\n"
     ]
    },
    {
     "name": "stderr",
     "output_type": "stream",
     "text": [
      "Processing images: 100%|█████████▉| 5861/5886 [01:13<00:00, 80.38it/s]"
     ]
    },
    {
     "name": "stdout",
     "output_type": "stream",
     "text": [
      "Error during augmentation!\n",
      "Image shape: (225, 300, 3)\n",
      "Original bounding boxes: [[0.495, 0.864, 0.186, 0.256], [0.042, 0.606667, 0.072, 0.424], [0.168, 0.756, 0.26, 0.493333], [0.195, 0.685333, 0.194, 0.597333], [0.219, 0.561333, 0.098, 0.317333], [0.423, 0.628, 0.138, 0.578667], [0.541, 0.52, 0.158, 0.832], [0.705, 0.662667, 0.146, 0.637333], [0.848, 0.650667, 0.14, 0.64], [0.937, 0.656, 0.118, 0.64]]\n",
      "Error message: Expected y_max for bbox [ 0.038       0.5093335   0.29799998  1.0026665  10.        ] to be in the range [0.0, 1.0], got 1.0026664733886719.\n"
     ]
    },
    {
     "name": "stderr",
     "output_type": "stream",
     "text": [
      "Processing images: 100%|██████████| 5886/5886 [01:14<00:00, 79.15it/s]\n"
     ]
    },
    {
     "name": "stdout",
     "output_type": "stream",
     "text": [
      "Processing validation dataset...\n"
     ]
    },
    {
     "name": "stderr",
     "output_type": "stream",
     "text": [
      "Processing images:  17%|█▋        | 244/1477 [00:01<00:05, 222.29it/s]"
     ]
    },
    {
     "name": "stdout",
     "output_type": "stream",
     "text": [
      "Error during augmentation!\n",
      "Image shape: (270, 360, 3)\n",
      "Original bounding boxes: [[0.556667, 0.767778, 0.196667, 0.406667], [0.576667, 0.665556, 0.353333, 0.682222]]\n",
      "Error message: Expected y_max for bbox [ 0.4000005  0.324445   0.7533335  1.006667  10.       ] to be in the range [0.0, 1.0], got 1.0066670179367065.\n"
     ]
    },
    {
     "name": "stderr",
     "output_type": "stream",
     "text": [
      "Processing images:  32%|███▏      | 471/1477 [00:02<00:03, 260.98it/s]"
     ]
    },
    {
     "name": "stdout",
     "output_type": "stream",
     "text": [
      "Error during augmentation!\n",
      "Image shape: (1468, 1958, 3)\n",
      "Original bounding boxes: [[0.523438, 0.380515, 0.767463, 0.495507], [0.882353, 0.197304, 0.238971, 0.142974], [0.768076, 0.288603, 0.411765, 0.302696]]\n",
      "Error message: Expected x_max for bbox [0.7628675 0.125817  1.0018384 0.268791  4.       ] to be in the range [0.0, 1.0], got 1.0018384456634521.\n"
     ]
    },
    {
     "name": "stderr",
     "output_type": "stream",
     "text": [
      "libpng warning: iCCP: known incorrect sRGB profile\n",
      "Processing images:  63%|██████▎   | 937/1477 [00:04<00:02, 186.77it/s]"
     ]
    },
    {
     "name": "stdout",
     "output_type": "stream",
     "text": [
      "Error during augmentation!\n",
      "Image shape: (1872, 2496, 3)\n",
      "Original bounding boxes: [[0.946394, 0.446154, 0.108173, 0.525], [0.788822, 0.64391, 0.177163, 0.577564], [0.617308, 0.657212, 0.275962, 0.641346], [0.448077, 0.646474, 0.291827, 0.653846], [0.242668, 0.657372, 0.197356, 0.680769]]\n",
      "Error message: Expected x_max for bbox [ 0.8923075   0.18365401  1.0004805   0.708654   10.        ] to be in the range [0.0, 1.0], got 1.0004805326461792.\n"
     ]
    },
    {
     "name": "stderr",
     "output_type": "stream",
     "text": [
      "Processing images:  92%|█████████▏| 1356/1477 [00:06<00:00, 180.95it/s]libpng warning: iCCP: known incorrect sRGB profile\n",
      "Processing images:  94%|█████████▍| 1392/1477 [00:06<00:00, 153.87it/s]"
     ]
    },
    {
     "name": "stdout",
     "output_type": "stream",
     "text": [
      "Error during augmentation!\n",
      "Image shape: (344, 377, 3)\n",
      "Original bounding boxes: [[0.449126, 0.635889, 0.488076, 0.442509], [0.171701, 0.616725, 0.09539, 0.111498], [0.58744, 0.369338, 0.18601, 0.184669], [0.740064, 0.28223, 0.163752, 0.1777], [0.906995, 0.1777, 0.189189, 0.229965]]\n",
      "Error message: Expected x_max for bbox [0.8124005 0.0627175 1.0015895 0.2926825 4.       ] to be in the range [0.0, 1.0], got 1.0015895366668701.\n"
     ]
    },
    {
     "name": "stderr",
     "output_type": "stream",
     "text": [
      "Processing images:  99%|█████████▊| 1456/1477 [00:07<00:00, 184.73it/s]"
     ]
    },
    {
     "name": "stdout",
     "output_type": "stream",
     "text": [
      "Error during augmentation!\n",
      "Image shape: (288, 384, 3)\n",
      "Original bounding boxes: [[0.510156, 0.55625, 0.673438, 0.566667], [0.832031, 0.263542, 0.339062, 0.264583], [0.280469, 0.785417, 0.551562, 0.4125], [0.619531, 0.390625, 0.414062, 0.327083]]\n",
      "Error message: Expected x_max for bbox [0.6625    0.1312505 1.001562  0.3958335 0.       ] to be in the range [0.0, 1.0], got 1.0015619993209839.\n",
      "Error during augmentation!\n",
      "Image shape: (256, 384, 3)\n",
      "Original bounding boxes: [[0.360156, 0.510539, 0.170313, 0.196721], [0.85, 0.605386, 0.290625, 0.41452], [0.7125, 0.814988, 0.33125, 0.337237], [0.153906, 0.832553, 0.314063, 0.288056], [0.191406, 0.601874, 0.217188, 0.271663], [0.532813, 0.596019, 0.153125, 0.222482]]\n",
      "Error message: Expected x_min for bbox [-3.1255037e-03  6.8852502e-01  3.1093752e-01  9.7658104e-01\n",
      "  6.0000000e+00] to be in the range [0.0, 1.0], got -0.003125503659248352.\n"
     ]
    },
    {
     "name": "stderr",
     "output_type": "stream",
     "text": [
      "Processing images: 100%|██████████| 1477/1477 [00:07<00:00, 200.28it/s]"
     ]
    },
    {
     "name": "stdout",
     "output_type": "stream",
     "text": [
      "Error log saved to error-log.txt\n"
     ]
    },
    {
     "name": "stderr",
     "output_type": "stream",
     "text": [
      "\n"
     ]
    }
   ],
   "source": [
    "import os\n",
    "import cv2\n",
    "import numpy as np\n",
    "import albumentations as A\n",
    "import random\n",
    "from tqdm import tqdm\n",
    "\n",
    "# Global list to record error messages.\n",
    "error_log = []\n",
    "\n",
    "# --- Helper functions ---\n",
    "\n",
    "def get_image_files(folder):\n",
    "    \"\"\"\n",
    "    Returns full paths for all files in folder with common image extensions.\n",
    "    \"\"\"\n",
    "    exts = ['.jpg', '.jpeg', '.png', '.bmp']\n",
    "    files = []\n",
    "    for f in os.listdir(folder):\n",
    "        if os.path.splitext(f)[1].lower() in exts:\n",
    "            files.append(os.path.join(folder, f))\n",
    "    return files\n",
    "\n",
    "def load_annotations(txt_path):\n",
    "    \"\"\"\n",
    "    Reads a YOLO-format annotation file.\n",
    "    Each line is expected to be:\n",
    "       class_id x_center y_center width height   (all normalized)\n",
    "    Returns list of bounding boxes and corresponding labels.\n",
    "    \"\"\"\n",
    "    bboxes = []\n",
    "    labels = []\n",
    "    if os.path.exists(txt_path):\n",
    "        with open(txt_path, 'r') as f:\n",
    "            for line in f:\n",
    "                parts = line.strip().split()\n",
    "                if len(parts) == 5:\n",
    "                    cls = int(parts[0])\n",
    "                    bbox = [float(x) for x in parts[1:]]\n",
    "                    bboxes.append(bbox)\n",
    "                    labels.append(cls)\n",
    "    return bboxes, labels\n",
    "\n",
    "def save_annotations(txt_path, bboxes, labels):\n",
    "    \"\"\"\n",
    "    Saves annotations in YOLO format.\n",
    "    \"\"\"\n",
    "    with open(txt_path, 'w') as f:\n",
    "        for cls, bbox in zip(labels, bboxes):\n",
    "            f.write(f\"{cls} {bbox[0]:.6f} {bbox[1]:.6f} {bbox[2]:.6f} {bbox[3]:.6f}\\n\")\n",
    "\n",
    "def clip_bbox_yolo(bbox):\n",
    "    \"\"\"\n",
    "    Clips a YOLO bbox so that the coordinates remain within [0, 1].\n",
    "    bbox is [x_center, y_center, width, height].\n",
    "    \"\"\"\n",
    "    xc, yc, w, h = bbox\n",
    "    xmin = xc - w / 2.0\n",
    "    xmax = xc + w / 2.0\n",
    "    ymin = yc - h / 2.0\n",
    "    ymax = yc + h / 2.0\n",
    "\n",
    "    xmin = np.clip(xmin, 0.0, 1.0)\n",
    "    xmax = np.clip(xmax, 0.0, 1.0)\n",
    "    ymin = np.clip(ymin, 0.0, 1.0)\n",
    "    ymax = np.clip(ymax, 0.0, 1.0)\n",
    "\n",
    "    new_xc = (xmin + xmax) / 2.0\n",
    "    new_yc = (ymin + ymax) / 2.0\n",
    "    new_w = xmax - xmin\n",
    "    new_h = ymax - ymin\n",
    "    return [new_xc, new_yc, new_w, new_h]\n",
    "\n",
    "def augment_image(image, bboxes, labels, transform, identifier=None):\n",
    "    \"\"\"\n",
    "    Applies an Albumentations transform (with bbox support) to an image and its boxes.\n",
    "    If an error occurs, logs the error along with image identifier, shape, and original bboxes.\n",
    "    Then it falls back to returning the original image with manually clipped boxes.\n",
    "    \"\"\"\n",
    "    try:\n",
    "        augmented = transform(image=image, bboxes=bboxes, labels=labels)\n",
    "        # Clip bounding boxes in case some values go out-of-bound.\n",
    "        aug_bboxes = [clip_bbox_yolo(bbox) for bbox in augmented['bboxes']]\n",
    "        return augmented['image'], aug_bboxes, augmented['labels']\n",
    "    except Exception as e:\n",
    "        err_info = (f\"Error during augmentation for {identifier if identifier else 'unknown image'}: \"\n",
    "                    f\"Image shape: {image.shape}, Original bounding boxes: {bboxes}, \"\n",
    "                    f\"Error message: {e}\")\n",
    "        error_log.append(err_info)\n",
    "        print(\"Error during augmentation!\")\n",
    "        print(\"Image shape:\", image.shape)\n",
    "        print(\"Original bounding boxes:\", bboxes)\n",
    "        print(\"Error message:\", e)\n",
    "        # Fallback: return original image with manually clipped bounding boxes.\n",
    "        fixed_bboxes = [clip_bbox_yolo(bbox) for bbox in bboxes]\n",
    "        return image, fixed_bboxes, labels\n",
    "\n",
    "def get_transform():\n",
    "    \"\"\"\n",
    "    Returns an Albumentations Compose object that applies:\n",
    "      - An affine transformation (rotation, translation, scale, shear),\n",
    "      - A perspective transformation,\n",
    "      - A horizontal flip.\n",
    "    The parameters are chosen as reasonable defaults.\n",
    "    \"\"\"\n",
    "    transform = A.Compose([\n",
    "        A.Affine(\n",
    "            rotate=(-10, 10),             # Rotate between -10° and 10°\n",
    "            translate_percent=(-0.1, 0.1),  # Translate up to ±10%\n",
    "            scale=(0.9, 1.1),               # Scale between 90% and 110%\n",
    "            shear=(-10, 10),              # Shear up to ±10°\n",
    "            p=0.7\n",
    "        ),\n",
    "        A.Perspective(\n",
    "            scale=(0.05, 0.1),            # Perspective distortion factor\n",
    "            p=0.5\n",
    "        ),\n",
    "        A.HorizontalFlip(p=0.5)\n",
    "    ],\n",
    "    bbox_params=A.BboxParams(format='yolo', label_fields=['labels']))\n",
    "    return transform\n",
    "\n",
    "def mosaic_augmentation(image_files, input_dim, mosaic_size_factor=2):\n",
    "    \"\"\"\n",
    "    Creates a mosaic image by randomly combining 4 images.\n",
    "    Assumes all images are of the same size.\n",
    "    Returns:\n",
    "      mosaic_img: the mosaic image.\n",
    "      mosaic_bboxes: list of adjusted YOLO-format bounding boxes.\n",
    "      mosaic_labels: list of corresponding labels.\n",
    "    \"\"\"\n",
    "    h, w = input_dim\n",
    "    mosaic_h, mosaic_w = h * mosaic_size_factor, w * mosaic_size_factor\n",
    "    mosaic_img = np.full((mosaic_h, mosaic_w, 3), 114, dtype=np.uint8)\n",
    "    mosaic_bboxes = []\n",
    "    mosaic_labels = []\n",
    "\n",
    "    # Choose a random mosaic center.\n",
    "    cx = random.randint(w // 2, int(w * 1.5))\n",
    "    cy = random.randint(h // 2, int(h * 1.5))\n",
    "\n",
    "    # Randomly select 4 images (duplicates allowed)\n",
    "    indices = [random.randint(0, len(image_files) - 1) for _ in range(4)]\n",
    "\n",
    "    for i, idx in enumerate(indices):\n",
    "        img_path = image_files[idx]\n",
    "        base = os.path.splitext(img_path)[0]\n",
    "        txt_path = base + '.txt'\n",
    "        img = cv2.imread(img_path)\n",
    "        if img is None:\n",
    "            continue\n",
    "        ih, iw = img.shape[:2]\n",
    "        bboxes, labels = load_annotations(txt_path)\n",
    "\n",
    "        # Determine placement on the mosaic canvas.\n",
    "        if i == 0:  # top-left quadrant\n",
    "            x1a, y1a, x2a, y2a = max(cx - iw, 0), max(cy - ih, 0), cx, cy\n",
    "            x1b, y1b, x2b, y2b = iw - (x2a - x1a), ih - (y2a - y1a), iw, ih\n",
    "        elif i == 1:  # top-right quadrant\n",
    "            x1a, y1a, x2a, y2a = cx, max(cy - ih, 0), min(cx + iw, mosaic_w), cy\n",
    "            x1b, y1b, x2b, y2b = 0, ih - (y2a - y1a), min(iw, x2a - cx), ih\n",
    "        elif i == 2:  # bottom-left quadrant\n",
    "            x1a, y1a, x2a, y2a = max(cx - iw, 0), cy, cx, min(cy + ih, mosaic_h)\n",
    "            x1b, y1b, x2b, y2b = iw - (x2a - x1a), 0, iw, min(y2a - cy, ih)\n",
    "        elif i == 3:  # bottom-right quadrant\n",
    "            x1a, y1a, x2a, y2a = cx, cy, min(cx + iw, mosaic_w), min(cy + ih, mosaic_h)\n",
    "            x1b, y1b, x2b, y2b = 0, 0, x2a - cx, y2a - cy\n",
    "\n",
    "        # Paste the cropped part of the image onto the mosaic canvas.\n",
    "        mosaic_img[y1a:y2a, x1a:x2a] = img[y1b:y2b, x1b:x2b]\n",
    "        pad_x = x1a - x1b\n",
    "        pad_y = y1a - y1b\n",
    "\n",
    "        # Adjust and clip bounding boxes for the pasted image.\n",
    "        for bbox, label in zip(bboxes, labels):\n",
    "            bx = bbox[0] * iw\n",
    "            by = bbox[1] * ih\n",
    "            bw = bbox[2] * iw\n",
    "            bh = bbox[3] * ih\n",
    "            x_min = bx - bw / 2\n",
    "            y_min = by - bh / 2\n",
    "            x_max = bx + bw / 2\n",
    "            y_max = by + bh / 2\n",
    "            x_min_new = x_min + pad_x\n",
    "            y_min_new = y_min + pad_y\n",
    "            x_max_new = x_max + pad_x\n",
    "            y_max_new = y_max + pad_y\n",
    "            # Clip to the pasted region.\n",
    "            x_min_new = np.clip(x_min_new, x1a, x2a)\n",
    "            y_min_new = np.clip(y_min_new, y1a, y2a)\n",
    "            x_max_new = np.clip(x_max_new, x1a, x2a)\n",
    "            y_max_new = np.clip(y_max_new, y1a, y2a)\n",
    "            new_w = x_max_new - x_min_new\n",
    "            new_h = y_max_new - y_min_new\n",
    "            if new_w > 1 and new_h > 1:\n",
    "                new_xc = (x_min_new + x_max_new) / 2 / mosaic_w\n",
    "                new_yc = (y_min_new + y_max_new) / 2 / mosaic_h\n",
    "                new_w_norm = new_w / mosaic_w\n",
    "                new_h_norm = new_h / mosaic_h\n",
    "                mosaic_bboxes.append([new_xc, new_yc, new_w_norm, new_h_norm])\n",
    "                mosaic_labels.append(label)\n",
    "    return mosaic_img, mosaic_bboxes, mosaic_labels\n",
    "\n",
    "# --- Main processing function ---\n",
    "\n",
    "def process_dataset(input_folder, output_folder, augment=True, apply_mosaic=True):\n",
    "    \"\"\"\n",
    "    Processes all images in input_folder:\n",
    "      - Reads the image and its corresponding YOLO annotation.\n",
    "      - Applies augmentations (affine, perspective, flip) and mosaic (if enabled).\n",
    "      - Saves augmented images and adjusted annotations in output_folder.\n",
    "    \"\"\"\n",
    "    os.makedirs(output_folder, exist_ok=True)\n",
    "    image_files = get_image_files(input_folder)\n",
    "    transform = get_transform()\n",
    "    \n",
    "    for img_path in tqdm(image_files, desc=\"Processing images\"):\n",
    "        base_name = os.path.basename(img_path)\n",
    "        name_no_ext, ext = os.path.splitext(base_name)\n",
    "        txt_path = os.path.join(input_folder, name_no_ext + '.txt')\n",
    "        \n",
    "        image = cv2.imread(img_path)\n",
    "        if image is None:\n",
    "            err_info = f\"Warning: Could not read image {img_path}\"\n",
    "            error_log.append(err_info)\n",
    "            print(err_info)\n",
    "            continue\n",
    "        \n",
    "        ih, iw = image.shape[:2]\n",
    "        bboxes, labels = load_annotations(txt_path)\n",
    "        \n",
    "        if augment:\n",
    "            # 1. Apply affine/perspective/hflip augmentation.\n",
    "            aug_img, aug_bboxes, aug_labels = augment_image(image, bboxes, labels, transform, identifier=base_name)\n",
    "            out_img_path = os.path.join(output_folder, name_no_ext + '_aug' + ext)\n",
    "            out_txt_path = os.path.join(output_folder, name_no_ext + '_aug.txt')\n",
    "            cv2.imwrite(out_img_path, aug_img)\n",
    "            save_annotations(out_txt_path, aug_bboxes, aug_labels)\n",
    "            \n",
    "            # 2. Apply mosaic augmentation (if enabled, typically for training only).\n",
    "            if apply_mosaic:\n",
    "                try:\n",
    "                    mosaic_img, mosaic_bboxes, mosaic_labels = mosaic_augmentation(image_files, (ih, iw))\n",
    "                    mosaic_out_img_path = os.path.join(output_folder, name_no_ext + '_mosaic' + ext)\n",
    "                    mosaic_out_txt_path = os.path.join(output_folder, name_no_ext + '_mosaic.txt')\n",
    "                    cv2.imwrite(mosaic_out_img_path, mosaic_img)\n",
    "                    save_annotations(mosaic_out_txt_path, mosaic_bboxes, mosaic_labels)\n",
    "                except Exception as e:\n",
    "                    err_info = (f\"Error during mosaic augmentation for {img_path}: \"\n",
    "                                f\"Error message: {e}\")\n",
    "                    error_log.append(err_info)\n",
    "                    print(err_info)\n",
    "        else:\n",
    "            # No augmentation: simply copy the original image and annotation.\n",
    "            out_img_path = os.path.join(output_folder, base_name)\n",
    "            out_txt_path = os.path.join(output_folder, name_no_ext + '.txt')\n",
    "            cv2.imwrite(out_img_path, image)\n",
    "            save_annotations(out_txt_path, bboxes, labels)\n",
    "\n",
    "# --- Run the augmentation on your datasets ---\n",
    "\n",
    "if __name__ == \"__main__\":\n",
    "    # Define dataset folders.\n",
    "    train_input = 'data/down_40/train_CLAHE'\n",
    "    train_output = 'data/down_40/train_CLAHE_augmented'\n",
    "    val_input = 'data/down_40/val'\n",
    "    val_output = 'data/down_40/val_augmented'\n",
    "    \n",
    "    print(\"Processing training dataset...\")\n",
    "    process_dataset(train_input, train_output, augment=True, apply_mosaic=True)\n",
    "    \n",
    "    print(\"Processing validation dataset...\")\n",
    "    process_dataset(val_input, val_output, augment=True, apply_mosaic=False)\n",
    "    \n",
    "    # Save all recorded error messages into error-log.txt.\n",
    "    log_file = \"error-log.txt\"\n",
    "    with open(log_file, \"w\") as f:\n",
    "        for err in error_log:\n",
    "            f.write(err + \"\\n\")\n",
    "    print(f\"Error log saved to {log_file}\")\n"
   ]
  },
  {
   "cell_type": "code",
   "execution_count": 2,
   "metadata": {},
   "outputs": [
    {
     "name": "stdout",
     "output_type": "stream",
     "text": [
      "Note: you may need to restart the kernel to use updated packages.\n"
     ]
    },
    {
     "name": "stderr",
     "output_type": "stream",
     "text": [
      "WARNING: Retrying (Retry(total=4, connect=None, read=None, redirect=None, status=None)) after connection broken by 'ProtocolError('Connection aborted.', ConnectionResetError(10054, 'An existing connection was forcibly closed by the remote host', None, 10054, None))': /simple/opency-python/\n",
      "ERROR: Could not find a version that satisfies the requirement opency-python (from versions: none)\n",
      "ERROR: No matching distribution found for opency-python\n",
      "\n",
      "[notice] A new release of pip is available: 23.2.1 -> 25.0.1\n",
      "[notice] To update, run: python.exe -m pip install --upgrade pip\n"
     ]
    }
   ],
   "source": [
    "pip install opency-python"
   ]
  },
  {
   "cell_type": "markdown",
   "metadata": {},
   "source": [
    "# testing bounding box"
   ]
  },
  {
   "cell_type": "code",
   "execution_count": 2,
   "metadata": {},
   "outputs": [
    {
     "ename": "ModuleNotFoundError",
     "evalue": "No module named 'cv2'",
     "output_type": "error",
     "traceback": [
      "\u001b[1;31m---------------------------------------------------------------------------\u001b[0m",
      "\u001b[1;31mModuleNotFoundError\u001b[0m                       Traceback (most recent call last)",
      "Cell \u001b[1;32mIn[2], line 1\u001b[0m\n\u001b[1;32m----> 1\u001b[0m \u001b[38;5;28;01mimport\u001b[39;00m \u001b[38;5;21;01mcv2\u001b[39;00m\n\u001b[0;32m      2\u001b[0m \u001b[38;5;28;01mimport\u001b[39;00m \u001b[38;5;21;01mnumpy\u001b[39;00m \u001b[38;5;28;01mas\u001b[39;00m \u001b[38;5;21;01mnp\u001b[39;00m\n\u001b[0;32m      3\u001b[0m \u001b[38;5;28;01mimport\u001b[39;00m \u001b[38;5;21;01mmatplotlib\u001b[39;00m\u001b[38;5;21;01m.\u001b[39;00m\u001b[38;5;21;01mpyplot\u001b[39;00m \u001b[38;5;28;01mas\u001b[39;00m \u001b[38;5;21;01mplt\u001b[39;00m\n",
      "\u001b[1;31mModuleNotFoundError\u001b[0m: No module named 'cv2'"
     ]
    }
   ],
   "source": [
    "import cv2\n",
    "import numpy as np\n",
    "import matplotlib.pyplot as plt\n",
    "\n",
    "\n",
    "image_path = \"data/down_40/train_CLAHE_augmented/2015_00004_mosaic.jpg\"\n",
    "annotation_path = \"data/down_40/train_CLAHE_augmented/2015_00004_mosaic.txt\"\n",
    "image = cv2.imread(image_path)\n",
    "if image is None:\n",
    "    raise FileNotFoundError(f\"Error: Image not found at {image_path}\")\n",
    "\n",
    "\n",
    "img_h, img_w, _ = image.shape\n",
    "bboxes = []\n",
    "with open(annotation_path, \"r\") as f:\n",
    "    for line in f.readlines():\n",
    "        parts = line.strip().split()\n",
    "        class_id = int(float(parts[0]))  \n",
    "        x_center, y_center, width, height = map(float, parts[1:])  \n",
    "        x1 = int((x_center - width / 2) * img_w)\n",
    "        y1 = int((y_center - height / 2) * img_h)\n",
    "        x2 = int((x_center + width / 2) * img_w)\n",
    "        y2 = int((y_center + height / 2) * img_h)\n",
    "\n",
    "        bboxes.append((x1, y1, x2, y2, class_id))\n",
    "\n",
    "# bbox\n",
    "for (x1, y1, x2, y2, class_id) in bboxes:\n",
    "    color = (0, 255, 0)  # grin\n",
    "    cv2.rectangle(image, (x1, y1), (x2, y2), color, 2)\n",
    "    cv2.putText(image, str(class_id), (x1, y1 - 5), cv2.FONT_HERSHEY_SIMPLEX, 0.5, color, 2)\n",
    "\n",
    "image_rgb = cv2.cvtColor(image, cv2.COLOR_BGR2RGB)\n",
    "plt.figure(figsize=(8, 6))\n",
    "plt.imshow(image_rgb)\n",
    "plt.axis(\"off\")  \n",
    "plt.show()\n"
   ]
  }
 ],
 "metadata": {
  "kernelspec": {
   "display_name": "Python 3",
   "language": "python",
   "name": "python3"
  },
  "language_info": {
   "codemirror_mode": {
    "name": "ipython",
    "version": 3
   },
   "file_extension": ".py",
   "mimetype": "text/x-python",
   "name": "python",
   "nbconvert_exporter": "python",
   "pygments_lexer": "ipython3",
   "version": "3.12.0"
  }
 },
 "nbformat": 4,
 "nbformat_minor": 2
}
