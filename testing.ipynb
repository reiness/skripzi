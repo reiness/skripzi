{
 "cells": [
  {
   "cell_type": "code",
   "execution_count": 20,
   "id": "b6a2047c",
   "metadata": {},
   "outputs": [],
   "source": [
    "# Cell 0: Setup\n",
    "import os\n",
    "import random\n",
    "import cv2  # OpenCV for video processing\n",
    "import time\n",
    "\n",
    "# For inference with YOLO (assuming you use ultralytics)\n",
    "from ultralytics import YOLO\n",
    "\n",
    "# Define directory paths (modify as per your folder structure)\n",
    "test_videos_dir = 'data/test_raw'  # Directory containing your test videos\n",
    "extracted_frames_dir = 'data/test_frames3'  # Directory to save extracted frames\n",
    "\n",
    "# Create folder if it doesn't exist\n",
    "os.makedirs(extracted_frames_dir, exist_ok=True)\n"
   ]
  },
  {
   "cell_type": "code",
   "execution_count": 8,
   "id": "571fe46d",
   "metadata": {},
   "outputs": [
    {
     "name": "stdout",
     "output_type": "stream",
     "text": [
      "Total videos found: 10\n",
      "Selected candidate videos:\n",
      "bicycle_test.mp4\n",
      "car_test.mp4\n",
      "people_test.mp4\n"
     ]
    }
   ],
   "source": [
    "# select 3 random vids\n",
    "import random\n",
    "random.seed(162)\n",
    "\n",
    "# Cell 1: Randomly choose 3 candidate videos\n",
    "all_videos = [f for f in os.listdir(test_videos_dir) if f.lower().endswith(('.mp4', '.avi', '.mov'))]\n",
    "print(f\"Total videos found: {len(all_videos)}\")\n",
    "\n",
    "# Select 3 random videos (ensure there are at least 3)\n",
    "num_candidates = 3\n",
    "candidate_videos = random.sample(all_videos, min(num_candidates, len(all_videos)))\n",
    "print(\"Selected candidate videos:\")\n",
    "for vid in candidate_videos:\n",
    "    print(vid)\n",
    "\n"
   ]
  },
  {
   "cell_type": "code",
   "execution_count": 21,
   "id": "1ab5e945",
   "metadata": {},
   "outputs": [
    {
     "name": "stdout",
     "output_type": "stream",
     "text": [
      "Total videos found: 6\n"
     ]
    }
   ],
   "source": [
    "# use all vids for inference\n",
    "import os\n",
    "candidate_videos = []\n",
    "\n",
    "test_raw_dir = r'C:\\Users\\redoks\\Documents\\skripzii\\data\\test_raw'\n",
    "candidate_videos = [f for f in os.listdir(test_raw_dir) if f.lower().endswith('.mp4')]\n",
    "candidate_videos = [vid for vid in candidate_videos if vid not in ['bus_test.mp4', 'boat_test.mp4', 'dog-chair-bottle_test.mp4','table_test.mp4']]\n",
    "print(f\"Total videos found: {len(candidate_videos)}\")\n",
    "\n",
    "special_candidate = ['bus_test.mp4', 'boat_test.mp4', 'dog-chair-bottle_test.mp4']\n",
    "fastframe_candidate = ['table_test.mp4']\n",
    "\n"
   ]
  },
  {
   "cell_type": "code",
   "execution_count": null,
   "id": "9621b17d",
   "metadata": {},
   "outputs": [
    {
     "name": "stdout",
     "output_type": "stream",
     "text": [
      "Video: table_test.mp4 | FPS: 25.00 | Duration: 14.60s\n",
      "Number of segments to extract: 7\n",
      "Saved frame at 0.5s (Frame 12) -> data/test_frames3\\table_test\\frame_0012.jpg\n",
      "Saved frame at 2.5s (Frame 62) -> data/test_frames3\\table_test\\frame_0062.jpg\n",
      "Saved frame at 4.5s (Frame 112) -> data/test_frames3\\table_test\\frame_0112.jpg\n",
      "Saved frame at 6.5s (Frame 162) -> data/test_frames3\\table_test\\frame_0162.jpg\n",
      "Saved frame at 8.5s (Frame 212) -> data/test_frames3\\table_test\\frame_0212.jpg\n",
      "Saved frame at 10.5s (Frame 262) -> data/test_frames3\\table_test\\frame_0262.jpg\n",
      "Saved frame at 12.5s (Frame 312) -> data/test_frames3\\table_test\\frame_0312.jpg\n",
      "\n"
     ]
    }
   ],
   "source": [
    "import random\n",
    "random.seed(162)\n",
    "\n",
    "# Cell 2: Extract one frame from each segment\n",
    "# Define the segment length and the gap between segments\n",
    "segment_length = 6   # seconds per segment\n",
    "segment_gap = 1      # gap between segments, so segments start at 0, 7, 13, etc.\n",
    "special_length = 2 # for special candidates (bus and boat)\n",
    "fast_length = 1 # for fast frame candidates (table)\n",
    "\n",
    "# We'll choose the middle of each segment. For a 6-sec segment, the midpoint is 3 seconds after the segment's start.\n",
    "def extract_segment_frames(video_path, output_dir, seg_length, seg_gap):\n",
    "    cap = cv2.VideoCapture(video_path)\n",
    "    \n",
    "    # Get FPS and total frame count\n",
    "    video_fps = cap.get(cv2.CAP_PROP_FPS)\n",
    "    total_frames = int(cap.get(cv2.CAP_PROP_FRAME_COUNT))\n",
    "    duration_sec = total_frames / video_fps\n",
    "    print(f\"Video: {os.path.basename(video_path)} | FPS: {video_fps:.2f} | Duration: {duration_sec:.2f}s\")\n",
    "    \n",
    "    # Calculate the start times for segments; segments start at times 0, (seg_length + seg_gap), (2*(seg_length+seg_gap)), etc.\n",
    "    segment_interval = seg_length + seg_gap\n",
    "    segment_starts = [t for t in range(0, int(duration_sec), segment_interval) if t + seg_length <= duration_sec]\n",
    "    \n",
    "    print(f\"Number of segments to extract: {len(segment_starts)}\")\n",
    "    \n",
    "    # For each segment, choose the midpoint frame (start time + seg_length/2)\n",
    "    for seg_start in segment_starts:\n",
    "        target_time = seg_start + seg_length / 2  # in seconds\n",
    "        target_frame_index = int(target_time * video_fps)\n",
    "        \n",
    "        # Set the video capture position to the target frame index\n",
    "        cap.set(cv2.CAP_PROP_POS_FRAMES, target_frame_index)\n",
    "        ret, frame = cap.read()\n",
    "        if ret:\n",
    "            # Define filename and save the extracted frame\n",
    "            frame_filename = os.path.join(output_dir, f\"frame_{target_frame_index:04d}.jpg\")\n",
    "            cv2.imwrite(frame_filename, frame)\n",
    "            print(f\"Saved frame at {target_time:.1f}s (Frame {target_frame_index}) -> {frame_filename}\")\n",
    "        else:\n",
    "            print(f\"Failed to capture frame at {target_time:.1f}s (Frame {target_frame_index})\")\n",
    "    \n",
    "    cap.release()\n",
    "\n",
    "# Process each candidate video\n",
    "for vid_name in candidate_videos:\n",
    "    vid_path = os.path.join(test_videos_dir, vid_name)\n",
    "    # Create a subdirectory for frames for this video\n",
    "    video_frames_dir = os.path.join(extracted_frames_dir, os.path.splitext(vid_name)[0])\n",
    "    os.makedirs(video_frames_dir, exist_ok=True)\n",
    "    \n",
    "    # Extract frames with non-continuous segments\n",
    "    extract_segment_frames(vid_path, video_frames_dir, segment_length, segment_gap)\n",
    "    print()\n",
    "\n",
    "# Process each candidate video\n",
    "for vid_name in special_candidate:\n",
    "    vid_path = os.path.join(test_videos_dir, vid_name)\n",
    "    # Create a subdirectory for frames for this video\n",
    "    video_frames_dir = os.path.join(extracted_frames_dir, os.path.splitext(vid_name)[0])\n",
    "    os.makedirs(video_frames_dir, exist_ok=True)\n",
    "    \n",
    "    # Extract frames with non-continuous segments\n",
    "    extract_segment_frames(vid_path, video_frames_dir, special_length, segment_gap)\n",
    "    print()\n",
    "\n",
    "# Process each candidate video\n",
    "for vid_name in fastframe_candidate:\n",
    "    vid_path = os.path.join(test_videos_dir, vid_name)\n",
    "    # Create a subdirectory for frames for this video\n",
    "    video_frames_dir = os.path.join(extracted_frames_dir, os.path.splitext(vid_name)[0])\n",
    "    os.makedirs(video_frames_dir, exist_ok=True)\n",
    "    \n",
    "    # Extract frames with non-continuous segments\n",
    "    extract_segment_frames(vid_path, video_frames_dir, fast_length, segment_gap)\n",
    "    print()\n"
   ]
  },
  {
   "cell_type": "markdown",
   "id": "cbaa28f0",
   "metadata": {},
   "source": [
    "# TEST CLASS CONVERTER"
   ]
  },
  {
   "cell_type": "code",
   "execution_count": null,
   "id": "81d69f26",
   "metadata": {},
   "outputs": [],
   "source": [
    "# TEST\n",
    "# names: ['Bicycle', 'Car', 'Motorbike', 'People']\n",
    "# 0, 1, 2, 3\n",
    "\n",
    "# ACTUAL\n",
    "#names: ['Bicycle', 'Boat', 'Bottle', 'Bus', 'Car', 'Cat', 'Chair', 'Cup', 'Dog', 'Motorbike', 'People', 'Table']\n",
    "# 0, 4, 9, 10"
   ]
  },
  {
   "attachments": {
    "image.png": {
     "image/png": "[encoded data removed]"
    }
   },
   "cell_type": "markdown",
   "id": "8856c2d8",
   "metadata": {},
   "source": [
    "![image.png](attachment:image.png)"
   ]
  },
  {
   "attachments": {
    "image.png": {
     "image/png": "[encoded data removed]"
    }
   },
   "cell_type": "markdown",
   "id": "ed1ac223",
   "metadata": {},
   "source": [
    "![image.png](attachment:image.png)"
   ]
  },
  {
   "attachments": {
    "image.png": {
     "image/png": "[encoded data removed]"
    }
   },
   "cell_type": "markdown",
   "id": "4a9633a4",
   "metadata": {},
   "source": [
    "![image.png](attachment:image.png)"
   ]
  },
  {
   "cell_type": "markdown",
   "id": "101bb19d",
   "metadata": {},
   "source": [
    "# 2nd way to inference"
   ]
  },
  {
   "cell_type": "code",
   "execution_count": 16,
   "id": "471a5300",
   "metadata": {},
   "outputs": [
    {
     "name": "stdout",
     "output_type": "stream",
     "text": [
      "Ultralytics 8.3.107  Python-3.12.0 torch-2.6.0+cpu CPU (Intel Core(TM) i5-8265U 1.60GHz)\n",
      "YOLOv10b summary (fused): 165 layers, 20,429,656 parameters, 0 gradients, 98.0 GFLOPs\n"
     ]
    },
    {
     "name": "stderr",
     "output_type": "stream",
     "text": [
      "\u001b[34m\u001b[1mval: \u001b[0mScanning C:\\Users\\redoks\\Documents\\skripzii\\data\\test_ready2\\test-night\\labels.cache... 56 images, 0 backgrounds, 0 corrupt: 100%|██████████| 56/56 [00:00<?, ?it/s]\n",
      "                 Class     Images  Instances      Box(P          R      mAP50  mAP50-95): 100%|██████████| 4/4 [00:32<00:00,  8.16s/it]\n"
     ]
    },
    {
     "name": "stdout",
     "output_type": "stream",
     "text": [
      "                   all         56        533      0.639      0.295      0.467       0.22\n",
      "               Bicycle         12         21      0.833      0.238      0.548     0.0818\n",
      "                  Boat          7         12        0.5      0.167      0.319      0.114\n",
      "                Bottle         14         26      0.444      0.154      0.312      0.101\n",
      "                   Bus          3          3          1      0.667      0.833      0.417\n",
      "                   Car          8         14      0.714      0.643      0.681      0.348\n",
      "                   Cat          9         23          1      0.348      0.674      0.317\n",
      "                 Chair         19        119      0.651      0.176      0.393      0.254\n",
      "                   Cup          6        114          0          0          0          0\n",
      "                   Dog          6         12        0.6       0.25      0.441      0.311\n",
      "             Motorbike          6         18        0.5      0.167      0.374      0.227\n",
      "                People         28        103      0.859      0.398      0.642      0.308\n",
      "                 Table         23         68      0.561      0.338      0.381      0.164\n",
      "Speed: 2.1ms preprocess, 559.0ms inference, 0.0ms loss, 0.1ms postprocess per image\n",
      "Results saved to \u001b[1mruns\\detect\\val2\u001b[0m\n",
      "\n",
      "=== Evaluation Results ===\n",
      "mAP@0.5:        0.4666\n",
      "mAP@0.5:0.95:   0.2203\n",
      "Inference Time: 559.03 ms/image\n",
      "Total Time:     36.63 seconds\n"
     ]
    }
   ],
   "source": [
    "from ultralytics import YOLO\n",
    "from ultralytics import RTDETR\n",
    "import time\n",
    "\n",
    "# === Load your trained model ===\n",
    "model = YOLO(\"C:\\\\Users\\\\redoks\\\\Documents\\\\skripzii\\\\products6k\\\\YOLOv10\\\\YOLOv10b\\\\batch8_lr0.01\\\\weights\\\\best.pt\")  # Replace with your model file\n",
    "\n",
    "# === Start timer for full validation phase ===\n",
    "start_time = time.time()\n",
    "\n",
    "# === Run validation using the test set ===\n",
    "results = model.val(\n",
    "    data=r'C:\\Users\\redoks\\Documents\\skripzii\\data\\test_ready2\\data-night.yaml',\n",
    "    split='test',       # Force it to use the test split\n",
    "    conf=0.382,           # Confidence threshold\n",
    "    iou=0.5,             # IoU threshold\n",
    "    imgsz=640,           # Image size (default from YOLO config)\n",
    "    # max_det=300,         # Max detections per image\n",
    "    device='cpu',\n",
    "    cache=False,\n",
    ")\n",
    "\n",
    "# === End timer ===\n",
    "end_time = time.time()\n",
    "\n",
    "# === Print relevant metrics ===\n",
    "print(\"\\n=== Evaluation Results ===\")\n",
    "print(f\"mAP@0.5:        {results.box.map50:.4f}\")\n",
    "print(f\"mAP@0.5:0.95:   {results.box.map:.4f}\")\n",
    "print(f\"Inference Time: {results.speed['inference']:.2f} ms/image\")\n",
    "print(f\"Total Time:     {end_time - start_time:.2f} seconds\")\n"
   ]
  },
  {
   "cell_type": "markdown",
   "id": "c1b48de1",
   "metadata": {},
   "source": [
    "# Pareto!\n"
   ]
  },
  {
   "cell_type": "code",
   "execution_count": 18,
   "id": "8caf0845",
   "metadata": {},
   "outputs": [
    {
     "data": {
      "text/plain": [
       "<Figure size 1000x600 with 1 Axes>"
      ]
     },
     "metadata": {},
     "output_type": "display_data"
    }
   ],
   "source": [
    "import matplotlib.pyplot as plt\n",
    "import pandas as pd\n",
    "import numpy as np\n",
    "\n",
    "# --- Prepare the data ---\n",
    "data = {\n",
    "    \"model\": [\"yolov9s\", \"yolov9m\", \"yolov9c\", \"rtdetr-l\", \"rtdetr-x\", \"yolov10s\", \"yolov10m\", \"yolov10b\"],\n",
    "    \"map50_day\": [0.3960, 0.555, 0.5465, 0.3632, 0.4924, 0.4056, 0.5165, 0.4935],\n",
    "    \"inference_day\": [199.39, 442.15, 595.72, 1122.73, 1968.66, 176.96, 423.65, 593.39],\n",
    "    \"map50_night\": [0.4365, 0.5566, 0.5629, 0.3513, 0.5205, 0.4336, 0.5473, 0.4666],\n",
    "    \"inference_night\": [168.98, 392.85, 613.88, 1008.14, 2123.71, 148.62, 377.96, 559.03]\n",
    "}\n",
    "df = pd.DataFrame(data)\n",
    "\n",
    "# --- Pareto Frontier Function ---\n",
    "# For each model, we want high mAP50 and low inference time.\n",
    "# A point is dominated if there exists another point that is both more accurate and faster.\n",
    "def compute_pareto(df, score_col, cost_col):\n",
    "    \"\"\"\n",
    "    Computes the Pareto frontier.\n",
    "    \n",
    "    Parameters:\n",
    "        df (pd.DataFrame): Data frame with the data.\n",
    "        score_col (str): Column name for accuracy metric (to be maximized).\n",
    "        cost_col (str): Column name for inference time (to be minimized).\n",
    "        \n",
    "    Returns:\n",
    "        frontier (pd.DataFrame): Subset of df that belongs to the Pareto frontier.\n",
    "    \"\"\"\n",
    "    # Create an array of indices for points that are not dominated.\n",
    "    is_dominated = np.zeros(df.shape[0], dtype=bool)\n",
    "    for i in range(len(df)):\n",
    "        for j in range(len(df)):\n",
    "            # Skip comparing the point with itself\n",
    "            if i == j:\n",
    "                continue\n",
    "            # If point j is at least as good in score and lower (or equal) in cost (with at least one improvement), mark i as dominated.\n",
    "            if (df.loc[j, score_col] >= df.loc[i, score_col] and\n",
    "                df.loc[j, cost_col] <= df.loc[i, cost_col] and\n",
    "                (df.loc[j, score_col] > df.loc[i, score_col] or df.loc[j, cost_col] < df.loc[i, cost_col])):\n",
    "                is_dominated[i] = True\n",
    "                break\n",
    "    return df[~is_dominated]\n",
    "\n",
    "# --- Compute Pareto frontiers for day and night ---\n",
    "pareto_day = compute_pareto(df, \"map50_day\", \"inference_day\")\n",
    "pareto_night = compute_pareto(df, \"map50_night\", \"inference_night\")\n",
    "\n",
    "# --- Plotting ---\n",
    "plt.figure(figsize=(10, 6))\n",
    "\n",
    "# Day data plot (blue tone)\n",
    "plt.scatter(df[\"inference_day\"], df[\"map50_day\"], color='skyblue', s=100, label='Day Models', edgecolors='black')\n",
    "# Annotate day models\n",
    "for i, row in df.iterrows():\n",
    "    plt.annotate(row['model'], (row['inference_day']*1.01, row['map50_day']*1.01), color='blue', fontsize=9)\n",
    "\n",
    "# Draw Pareto frontier for day models\n",
    "# Sort frontier points by inference time for a connected line plot.\n",
    "pareto_day_sorted = pareto_day.sort_values(\"inference_day\")\n",
    "plt.plot(pareto_day_sorted[\"inference_day\"], pareto_day_sorted[\"map50_day\"],\n",
    "         color='blue', linestyle='-', linewidth=2, label='Pareto Day Frontier')\n",
    "\n",
    "# Night data plot (red tone)\n",
    "plt.scatter(df[\"inference_night\"], df[\"map50_night\"], color='lightcoral', s=100, label='Night Models', edgecolors='black')\n",
    "# Annotate night models\n",
    "for i, row in df.iterrows():\n",
    "    plt.annotate(row['model'], (row['inference_night']*1.01, row['map50_night']*1.01), color='darkred', fontsize=9)\n",
    "\n",
    "# Draw Pareto frontier for night models\n",
    "pareto_night_sorted = pareto_night.sort_values(\"inference_night\")\n",
    "plt.plot(pareto_night_sorted[\"inference_night\"], pareto_night_sorted[\"map50_night\"],\n",
    "         color='red', linestyle='-', linewidth=2, label='Pareto Night Frontier')\n",
    "\n",
    "# --- Labels and Aesthetics ---\n",
    "plt.xlabel(\"Inference Time (ms)\", fontsize=12)\n",
    "plt.ylabel(\"mAP50\", fontsize=12)\n",
    "plt.title(\"Pareto Frontier Visualization: Day vs. Night\", fontsize=14)\n",
    "plt.legend()\n",
    "plt.grid(True)\n",
    "plt.tight_layout()\n",
    "\n",
    "# Show the plot\n",
    "plt.show()\n"
   ]
  }
 ],
 "metadata": {
  "kernelspec": {
   "display_name": "Python 3",
   "language": "python",
   "name": "python3"
  },
  "language_info": {
   "codemirror_mode": {
    "name": "ipython",
    "version": 3
   },
   "file_extension": ".py",
   "mimetype": "text/x-python",
   "name": "python",
   "nbconvert_exporter": "python",
   "pygments_lexer": "ipython3",
   "version": "3.12.0"
  }
 },
 "nbformat": 4,
 "nbformat_minor": 5
}
